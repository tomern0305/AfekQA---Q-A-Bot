{
 "cells": [
  {
   "cell_type": "markdown",
   "id": "d3f73db4-a4fc-438e-bb92-c7d4c12708e1",
   "metadata": {},
   "source": [
    "# WhatsApp group Chat data preprocessing"
   ]
  },
  {
   "cell_type": "code",
   "execution_count": null,
   "id": "a989046d-55e2-421a-9f57-dd17b33f8b4b",
   "metadata": {},
   "outputs": [],
   "source": [
    "import re, json\n",
    "from datetime import datetime, timedelta\n",
    "import pandas as pd\n",
    "from duckdb import sql as sqldf\n",
    "\n",
    "from plotly import express as px\n",
    "from plotly import graph_objs as go"
   ]
  },
  {
   "cell_type": "markdown",
   "id": "4b95d81a-c477-457f-a212-a2f678b5c439",
   "metadata": {},
   "source": [
    "## Step 0: Export the WhatsApp chat data\n",
    "you can find instructions anywhere on the internet  \n",
    "Save it as _chat.txt in the same directory\n"
   ]
  },
  {
   "cell_type": "markdown",
   "id": "d23e5e9f-a076-4331-9af8-10d3f52203e8",
   "metadata": {
    "scrolled": true
   },
   "source": [
    "# Step 1: Load WhatsApp export\n",
    "\n",
    "`[24/04/24, 7:54:07 PM] ~ Jigyasu: Hello, I am Jigyasu from NIT Agartala`"
   ]
  },
  {
   "cell_type": "code",
   "execution_count": null,
   "id": "49a7b6d2-89c9-4635-bb29-3dc829e3f83d",
   "metadata": {
    "scrolled": true
   },
   "outputs": [],
   "source": [
    "with open(\"_chat.txt\", \"r\", encoding=\"utf-8\") as f:\n",
    "    raw_text = f.read()\n",
    "\n",
    "# ambiguous_chars_pattern = r'[\\u202b\\u200f\\u202c\\u202f]'\n",
    "bad_space_patt = r'[\\u202f]'\n",
    "bad_empty_patt = r'[\\u202a\\u202b\\u202c\\u200f\\u200e]'\n",
    "# Use re.sub() to replace all occurrences of the characters with an empty string\n",
    "#cleaned_text = \n",
    "\n",
    "# === Step 2: Parse WhatsApp lines ===\n",
    "date_patt = r'([0-9]{1,2}\\/[0-9]{1,2}\\/[0-9]{2,4})'\n",
    "time_patt = r'([0-9]{1,2}:[0-9]{2}:[0-9]{2}\\s*[AaPp][Mm])'\n",
    "auth_patt = r'(?:~)?\\s*([^:]+)'\n",
    "text_patt = r'(.*)'\n",
    "full_patt = f'^\\[{date_patt},\\s*{time_patt}\\]\\s*{auth_patt}:\\s*{text_patt}$'\n",
    "line_re = re.compile(full_patt)\n",
    "\n",
    "#print(full_patt)\n",
    "\n",
    "dt_format = \"%d/%m/%y %H:%M:%S %p\"\n",
    "\n",
    "rows = []\n",
    "row = {}\n",
    "\n",
    "for raw_line in raw_text.splitlines():\n",
    "    raw_line = re.sub(bad_space_patt, ' ', raw_line) \n",
    "    raw_line = re.sub(bad_empty_patt, '', raw_line) \n",
    "    #raw_line.strip(\"\\u200f\").strip(\"\\u202f\").strip()\n",
    "    m = line_re.match(raw_line)\n",
    "    if m:\n",
    "        rows.append(row)       \n",
    "        \n",
    "        date_str, time_str, author, text = m.groups()\n",
    "        # print(raw_line)\n",
    "        #print(date_str, time_str, author, text)\n",
    "        dt = datetime.strptime(f\"{date_str} {time_str}\", dt_format)\n",
    "        row = {\"timestamp\": dt, \"author\": author.strip(), \"text\": text.strip()}\n",
    "        \n",
    "    else:\n",
    "        row[\"text\"] += '\\n' + raw_line"
   ]
  },
  {
   "cell_type": "code",
   "execution_count": null,
   "id": "5bd9fcb0-bab5-4220-afbf-01c2bad8eb6b",
   "metadata": {},
   "outputs": [],
   "source": [
    "len(rows)"
   ]
  },
  {
   "cell_type": "code",
   "execution_count": null,
   "id": "ea4780bc-df1b-411f-b6db-6b34c304a082",
   "metadata": {},
   "outputs": [],
   "source": [
    "df = pd.DataFrame(rows[1:]).sort_values(\"timestamp\").reset_index(drop=True)"
   ]
  },
  {
   "cell_type": "code",
   "execution_count": null,
   "id": "b261b3b0-b910-42e8-8a57-b17617a2704a",
   "metadata": {},
   "outputs": [],
   "source": [
    "df[30:].head(30)"
   ]
  },
  {
   "cell_type": "code",
   "execution_count": null,
   "id": "05afe93e-0c0a-4a19-9189-5ae92995bdef",
   "metadata": {},
   "outputs": [],
   "source": [
    "df['date'] = df[\"timestamp\"].dt.date\n",
    "df['time'] = df[\"timestamp\"].dt.time\n",
    "#df['time'] = df.time.apply(lambda dt : dt.strftime('%H:%M'))\n",
    "df['daytime'] = df.time.apply(lambda dt : dt.hour*60*60 + dt.minute*60 + dt.second)\n"
   ]
  },
  {
   "cell_type": "code",
   "execution_count": null,
   "id": "d7de2477-6de9-4370-8f56-8f0f5df7e094",
   "metadata": {},
   "outputs": [],
   "source": [
    "df.time.nunique()\n"
   ]
  },
  {
   "cell_type": "code",
   "execution_count": null,
   "id": "5b4629a8-b888-4c8f-bcf0-9ba1495ba574",
   "metadata": {},
   "outputs": [],
   "source": [
    "#ambiguous_chars_pattern = r'[\\u202a\\u202b\\u202c\\u200f]'\n",
    "\n",
    "# Use re.sub() to replace all occurrences of the characters with an empty string\n",
    "#cleaned_text = re.sub(ambiguous_chars_pattern, '', text)\n",
    "\n"
   ]
  },
  {
   "cell_type": "code",
   "execution_count": null,
   "id": "21511e7d-79a1-4844-b72b-75d94890cfed",
   "metadata": {},
   "outputs": [],
   "source": [
    "#df['text'] = df['text'].str.replace(ambiguous_chars_pattern, '', regex=True)"
   ]
  },
  {
   "cell_type": "code",
   "execution_count": null,
   "id": "036a032b-e22c-41d8-a0c4-907579d1232a",
   "metadata": {},
   "outputs": [],
   "source": [
    "# df['text'] = df['text'].str.replace(\"\\\\u200f\",\"\").str.replace(\"\\\\u202c\",\"\")\n",
    "# df['text']\n"
   ]
  },
  {
   "cell_type": "code",
   "execution_count": null,
   "id": "5b1de184-6a4a-467b-97f1-39f1df514676",
   "metadata": {},
   "outputs": [],
   "source": [
    "#print(r\"\\u200\")"
   ]
  },
  {
   "cell_type": "markdown",
   "id": "6e03107c-aacd-4c6d-b124-efcec8fe630e",
   "metadata": {},
   "source": [
    "## Step 3: Detect staff "
   ]
  },
  {
   "cell_type": "code",
   "execution_count": null,
   "id": "6705806a-188e-4baa-aa5a-2b566fccb00a",
   "metadata": {},
   "outputs": [],
   "source": [
    "q = r\"\"\"SELECT author, count(text) as cnt\n",
    "\n",
    "        FROM df\n",
    "        \n",
    "        group by author\n",
    "        order by cnt desc\n",
    "        ;\"\"\" # like '%_%';\"  #\n",
    "\n",
    "#scores = ps.sqldf(q)\n",
    "userstats = sqldf(q).df()"
   ]
  },
  {
   "cell_type": "code",
   "execution_count": null,
   "id": "a4bc2023-79a2-4a13-9543-ad877b33a20a",
   "metadata": {},
   "outputs": [],
   "source": [
    "userstats"
   ]
  },
  {
   "cell_type": "code",
   "execution_count": null,
   "id": "043cccf8-1b17-40d8-9b6f-c9dc2b2b01bb",
   "metadata": {},
   "outputs": [],
   "source": [
    "px.bar(userstats, x = userstats.index, y = \"cnt\", hover_data=[\"author\"])"
   ]
  },
  {
   "cell_type": "code",
   "execution_count": null,
   "id": "31f77a08-6bdd-4874-8376-372c37928cfd",
   "metadata": {},
   "outputs": [],
   "source": [
    "list(userstats[:4].author)"
   ]
  },
  {
   "cell_type": "code",
   "execution_count": null,
   "id": "053f7d45-aab1-42fe-89b9-d6747d4bb438",
   "metadata": {},
   "outputs": [],
   "source": [
    "staff_names = {'Amritaa Sethi Mam Gfg','Aman Sir Gfg Interview', 'Nikhil Sharma', '.', 'Aadil Latif'}\n",
    "\n",
    "df[\"role\"] = df[\"author\"].apply(lambda a: \"staff\" if a in staff_names else \"student\")\n",
    "\n",
    "df[\"is_question\"] = df[\"text\"].apply(lambda t: \"?\" in t)"
   ]
  },
  {
   "cell_type": "code",
   "execution_count": null,
   "id": "1db0d7a8-4d89-4f23-94fa-c85521283c31",
   "metadata": {},
   "outputs": [],
   "source": [
    "#df = df.sort_values([\"time\",\"role\",\"timestamp\"])\n",
    "#df.reset_index()"
   ]
  },
  {
   "cell_type": "code",
   "execution_count": null,
   "id": "bc64857c-26df-4f17-a474-012036454090",
   "metadata": {},
   "outputs": [],
   "source": [
    "authUnq = pd.DataFrame(df.author.unique()).reset_index()\n",
    "authUnq.columns = [\"Id\",\"name\"]\n",
    "authUnq.Id = 1000 + authUnq.Id\n",
    "authUnq"
   ]
  },
  {
   "cell_type": "code",
   "execution_count": null,
   "id": "7e560559-3193-40b6-b3bb-a62c56ffc0be",
   "metadata": {},
   "outputs": [],
   "source": [
    "df"
   ]
  },
  {
   "cell_type": "code",
   "execution_count": null,
   "id": "fab027cd-305e-4c60-843e-a7a353909715",
   "metadata": {},
   "outputs": [],
   "source": [
    "tm = df.time[3824]"
   ]
  },
  {
   "cell_type": "code",
   "execution_count": null,
   "id": "697632cc-af07-4c9c-a77e-a3633d4a481c",
   "metadata": {},
   "outputs": [],
   "source": [
    "tm"
   ]
  },
  {
   "cell_type": "code",
   "execution_count": null,
   "id": "e43e795d-2f79-4baf-855b-837eb7062c78",
   "metadata": {},
   "outputs": [],
   "source": [
    "px.histogram(df, x = 'daytime', color = 'role', nbins=600)"
   ]
  },
  {
   "cell_type": "code",
   "execution_count": null,
   "id": "64e4f48d-ee12-44f6-a31a-0e99855975ed",
   "metadata": {},
   "outputs": [],
   "source": [
    "q = r\"\"\"SELECT text, count(text) as cnt\n",
    "\n",
    "        FROM df\n",
    "        -- where text like '%omitted%'\n",
    "        group by text\n",
    "        order by cnt desc\n",
    "        ;\"\"\" # like '%_%';\"  #\n",
    "\n",
    "#scores = ps.sqldf(q)\n",
    "lal = sqldf(q).df()\n",
    "print(lal.shape)\n",
    "lal.head(30)"
   ]
  },
  {
   "cell_type": "code",
   "execution_count": null,
   "id": "ba58aedb-3a09-4178-9946-38586ec502db",
   "metadata": {},
   "outputs": [],
   "source": [
    "dels = list(lal.loc[[0,1,5,6,7,8,11,13,15]].text)\n",
    "dels"
   ]
  },
  {
   "cell_type": "code",
   "execution_count": null,
   "id": "a0d86c57-7066-41ad-9106-38c9e09f275f",
   "metadata": {},
   "outputs": [],
   "source": [
    "dels += ['Thanks', 'Ty', 'video omitted']\n",
    "\n",
    "urlfile = [\"https://\", \".pdf\", \".docx\", \".png\"]\n",
    "\n",
    "dels_like = ['document omitted','This message was deleted by admin']\n",
    "\n",
    "joined = [\"added ~ \", \"removed ~ \", \"removed +\"]\n",
    "\n",
    "when =  [f\"WHEN text = '{t}' THEN 'deleted'\" for t in dels]\n",
    "when += [f\"WHEN text LIKE '%{t}%' THEN 'deleted'\" for t in dels_like]\n",
    "when += [f\"WHEN text LIKE '%{t}%' THEN 'urlfile'\" for t in urlfile]\n",
    "when += [f\"WHEN text LIKE '%{t}%' THEN 'joined'\" for t in joined]\n",
    "\n",
    "\n",
    "when = \"\\n\\t\".join(when)\n",
    "print(when)"
   ]
  },
  {
   "cell_type": "code",
   "execution_count": null,
   "id": "a9f7a3de-b6b3-481e-9137-358fe4078337",
   "metadata": {},
   "outputs": [],
   "source": [
    "dels"
   ]
  },
  {
   "cell_type": "code",
   "execution_count": null,
   "id": "073473d9-87a6-4888-bcae-b84bbe8fb349",
   "metadata": {},
   "outputs": [],
   "source": [
    "basecols = \", \".join(df.columns[:-1])\n",
    "basecols"
   ]
  },
  {
   "cell_type": "code",
   "execution_count": null,
   "id": "d5f99168-2cdb-4637-8fd2-49f7350534f2",
   "metadata": {},
   "outputs": [],
   "source": [
    "q = f\"\"\"SELECT {basecols}, 'user' || cast(au.id as string) as authorAnon,\n",
    "    CASE\n",
    "        {when}\n",
    "        ELSE role\n",
    "    END as class      \n",
    "    \n",
    "    FROM df\n",
    "    JOIN authUnq au on df.author = au.name\n",
    "        \n",
    "        ;\"\"\" \n",
    "print(q)"
   ]
  },
  {
   "cell_type": "code",
   "execution_count": null,
   "id": "8eb44de7-5f24-416f-bb5a-aac5392776c5",
   "metadata": {},
   "outputs": [],
   "source": [
    "df = sqldf(q).df()\n",
    "df"
   ]
  },
  {
   "cell_type": "code",
   "execution_count": null,
   "id": "47fdc723-122c-4ed2-a07e-14dcecfaedaf",
   "metadata": {},
   "outputs": [],
   "source": []
  },
  {
   "cell_type": "code",
   "execution_count": null,
   "id": "b12723bc-e409-4c4b-ac9f-013a1542253f",
   "metadata": {},
   "outputs": [],
   "source": [
    "px.histogram(df, x = 'class')"
   ]
  },
  {
   "cell_type": "code",
   "execution_count": null,
   "id": "064acec3-2520-462b-a049-01f1b01e4729",
   "metadata": {},
   "outputs": [],
   "source": [
    "fig = px.scatter(df, x = \"timestamp\", y = \"daytime\", color = 'class', \n",
    "                 height=800, hover_data=[\"author\",\"text\"]  )\n",
    "# , category_orders=\n",
    "fig.update_traces(marker_size = 4)\n",
    "fig.update_layout(yaxis_tickformat='%H:%M:%S')"
   ]
  },
  {
   "cell_type": "code",
   "execution_count": null,
   "id": "18207e5e-12ba-4b2e-b1f9-99f0ba4673c8",
   "metadata": {},
   "outputs": [],
   "source": [
    "q = f\"\"\"SELECT *\n",
    "\n",
    "        FROM df\n",
    "        where class in ('student','staff','urlfile')\n",
    "        ;\"\"\" \n",
    "flt = sqldf(q).df()\n",
    "flt.shape"
   ]
  },
  {
   "cell_type": "code",
   "execution_count": null,
   "id": "0427c575-9f2d-42b3-97e3-4b1316bc6f3e",
   "metadata": {},
   "outputs": [],
   "source": [
    "#flt = df[df['class']=='sentence']\n",
    "flt"
   ]
  },
  {
   "cell_type": "code",
   "execution_count": null,
   "id": "ec327eec-4313-4008-8061-e02a5ed71445",
   "metadata": {},
   "outputs": [],
   "source": [
    "fig = px.scatter(flt, x = \"timestamp\", y = \"daytime\", color = 'role', \n",
    "                 height=800, hover_data=[\"author\",\"text\"] )\n",
    "# , category_orders=\n",
    "fig.update_traces(marker_size = 3)\n",
    "fig.update_layout(yaxis_tickformat='%H:%M:%S')"
   ]
  },
  {
   "cell_type": "code",
   "execution_count": null,
   "id": "c8dfb4f1-fb4e-4e3d-b6f9-227c8f30658f",
   "metadata": {},
   "outputs": [],
   "source": []
  },
  {
   "cell_type": "code",
   "execution_count": null,
   "id": "a33e3dfd-44b7-462d-bea3-604b95d29fc3",
   "metadata": {},
   "outputs": [],
   "source": [
    "fig = px.scatter(df, x = \"timestamp\", y = \"author\", color = 'role', \n",
    "                 height=800, hover_data=[\"text\"],  )\n",
    "fig.update_traces(marker_size = 3)"
   ]
  },
  {
   "cell_type": "code",
   "execution_count": null,
   "id": "07cdad9a-8ef9-4681-812f-d513d5b209b6",
   "metadata": {},
   "outputs": [],
   "source": [
    "fig = px.scatter(df, x = \"timestamp\", y = \"daytime\", color = 'class', \n",
    "                 height=800, hover_data=[\"text\"]  )\n",
    "# , category_orders=\n",
    "fig.update_traces(marker_size = 3)\n",
    "fig.update_layout(yaxis_tickformat='%H:%M:%S')"
   ]
  },
  {
   "cell_type": "code",
   "execution_count": null,
   "id": "afc9cac6-8faf-4f05-8722-5672d3ec76e3",
   "metadata": {},
   "outputs": [],
   "source": [
    "df.date.nunique()"
   ]
  },
  {
   "cell_type": "code",
   "execution_count": null,
   "id": "85098da9-c254-4c66-b3f6-26026cbceca7",
   "metadata": {},
   "outputs": [],
   "source": [
    "px.histogram(df, x = \"date\", nbins=200)"
   ]
  },
  {
   "cell_type": "code",
   "execution_count": null,
   "id": "04fd7741-853a-44f1-91c5-a97146f86ad9",
   "metadata": {},
   "outputs": [],
   "source": [
    "df.text.nunique()"
   ]
  },
  {
   "cell_type": "code",
   "execution_count": null,
   "id": "4fb07bb2-b83a-4d5f-93fa-0c3a797a112a",
   "metadata": {},
   "outputs": [],
   "source": [
    "df.text"
   ]
  },
  {
   "cell_type": "code",
   "execution_count": null,
   "id": "166fbe89-9675-40bd-b25b-0902ca84736c",
   "metadata": {},
   "outputs": [],
   "source": []
  },
  {
   "cell_type": "code",
   "execution_count": null,
   "id": "dc5e6e04-751b-4bd4-bc53-18a1737e4235",
   "metadata": {},
   "outputs": [],
   "source": [
    "px.histogram(lal, x = 'cnt')"
   ]
  },
  {
   "cell_type": "code",
   "execution_count": null,
   "id": "2a16bd97-605e-4489-af90-41d5c81d330b",
   "metadata": {},
   "outputs": [],
   "source": [
    "lal.head(50)"
   ]
  },
  {
   "cell_type": "code",
   "execution_count": null,
   "id": "042fbaa7-eaff-4bf7-b26f-aac028a352a4",
   "metadata": {
    "scrolled": true
   },
   "outputs": [],
   "source": [
    "q = f\"\"\"\n",
    "with s1 as \n",
    "(SELECT date, group_concat(time || ' ' || authorAnon || ': ' || text, '<hr>') as html_anon,\n",
    "                group_concat(time || ' ' || author || ': ' || text, '<hr>') as html,\n",
    "group_concat( authorAnon || ': ' || text, '\\n') as txt\n",
    "\n",
    "        FROM flt\n",
    "        GROUP by date\n",
    ")\n",
    "select * \n",
    "\n",
    "from s1\n",
    "order by date\n",
    "        ;\"\"\" \n",
    "\n",
    "dialogues = sqldf(q).df()\n",
    "dialogues"
   ]
  },
  {
   "cell_type": "code",
   "execution_count": null,
   "id": "2216434d-96de-4711-85e4-a8b25d08878d",
   "metadata": {},
   "outputs": [],
   "source": [
    "dialogues['txt'].to_json('dialogues.json', force_ascii=False, indent=2, orient='records')"
   ]
  },
  {
   "cell_type": "code",
   "execution_count": null,
   "id": "38c9c270-a84e-4b4c-91a0-5d11f8cf23fb",
   "metadata": {},
   "outputs": [],
   "source": [
    "\n",
    "def save_df_as_pretty_html(df, filename=\"output.html\", index=True):\n",
    "    pd.set_option(\"display.max_colwidth\", None)\n",
    "    # Convert newlines to <br> for HTML\n",
    "    df_html_ready = df.copy()\n",
    "    for col in df_html_ready.columns:\n",
    "        df_html_ready[col] = df_html_ready[col].astype(str).str.replace('\\n', '<br>', regex=False)\n",
    "\n",
    "    # Generate styled HTML\n",
    "    html = df_html_ready.to_html(\n",
    "        escape=False,  # Needed to render <br>\n",
    "        index=index,\n",
    "        border=0,\n",
    "        classes=\"styled-table\"\n",
    "    )\n",
    "\n",
    "    # Add CSS styling\n",
    "    style = \"\"\"\n",
    "    <style>\n",
    "    .styled-table {\n",
    "        border-collapse: collapse;\n",
    "        margin: 25px 0;\n",
    "        font-size: 16px;\n",
    "        font-family: Arial, sans-serif;\n",
    "        width: 100%;\n",
    "        table-layout: auto; /* ✅ Let browser fit naturally */\n",
    "    }\n",
    "    .styled-table th, .styled-table td {\n",
    "        border: 1px solid #dddddd;\n",
    "        padding: 10px;\n",
    "        vertical-align: top;\n",
    "        text-align: left;\n",
    "        overflow-wrap: break-word; /* ✅ Break inside words */\n",
    "        white-space: pre-wrap; /* ✅ Honor \\\\n linebreaks */\n",
    "    }\n",
    "    .styled-table td {\n",
    "        max-width: 600px; /* ✅ Avoid huge dream fields expanding table */\n",
    "    }\n",
    "    .styled-table th {\n",
    "        background-color: #f2f2f2;\n",
    "    }\n",
    "    </style>\n",
    "    \"\"\"\n",
    "\n",
    "    # Write full HTML document\n",
    "    with open(filename, \"w\", encoding=\"utf-8\") as f:\n",
    "        f.write(f\"<!DOCTYPE html><html><head>{style}</head><body>{html}</body></html>\")\n",
    "\n",
    "    print(f\"✅ HTML table saved to: {filename}\")\n"
   ]
  },
  {
   "cell_type": "code",
   "execution_count": null,
   "id": "d472f80a-3803-4ffb-ade1-e69eacc4d1b1",
   "metadata": {},
   "outputs": [],
   "source": [
    "save_df_as_pretty_html(dialogues[['date','html']], 'dialogues.html')"
   ]
  },
  {
   "cell_type": "code",
   "execution_count": null,
   "id": "c9b9431c-d418-45eb-9a63-f8f0227051ac",
   "metadata": {},
   "outputs": [],
   "source": []
  },
  {
   "cell_type": "code",
   "execution_count": null,
   "id": "d3eabb44-8330-4d78-b4e5-f3fcd461af65",
   "metadata": {},
   "outputs": [],
   "source": []
  }
 ],
 "metadata": {
  "kernelspec": {
   "display_name": "AfekaBot",
   "language": "python",
   "name": "afekabot"
  },
  "language_info": {
   "codemirror_mode": {
    "name": "ipython",
    "version": 3
   },
   "file_extension": ".py",
   "mimetype": "text/x-python",
   "name": "python",
   "nbconvert_exporter": "python",
   "pygments_lexer": "ipython3",
   "version": "3.11.9"
  }
 },
 "nbformat": 4,
 "nbformat_minor": 5
}
