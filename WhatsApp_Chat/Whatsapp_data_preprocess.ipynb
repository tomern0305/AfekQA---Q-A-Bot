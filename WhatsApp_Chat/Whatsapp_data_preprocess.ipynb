{
 "cells": [
  {
   "cell_type": "markdown",
   "id": "d3f73db4-a4fc-438e-bb92-c7d4c12708e1",
   "metadata": {},
   "source": [
    "# WhatsApp group Chat data preprocessing\n",
    "\n",
    "We wanted to incorporate questions and answers from a Whatsapp group for support of new students.  \n"
   ]
  },
  {
   "cell_type": "code",
   "execution_count": null,
   "id": "a989046d-55e2-421a-9f57-dd17b33f8b4b",
   "metadata": {},
   "outputs": [],
   "source": [
    "import re, json\n",
    "from datetime import datetime, timedelta\n",
    "import pandas as pd\n",
    "from duckdb import sql as sqldf\n",
    "\n",
    "from plotly import express as px\n",
    "from plotly import graph_objs as go"
   ]
  },
  {
   "cell_type": "markdown",
   "id": "4b95d81a-c477-457f-a212-a2f678b5c439",
   "metadata": {},
   "source": [
    "## Export the WhatsApp chat data\n",
    "You can find instructions anywhere on the internet  \n",
    "Save it as _chat.txt in the same directory\n"
   ]
  },
  {
   "cell_type": "markdown",
   "id": "d23e5e9f-a076-4331-9af8-10d3f52203e8",
   "metadata": {
    "scrolled": true
   },
   "source": [
    "## Load WhatsApp export\n",
    "For the actual competition we've used an actual data from one of the support groups in our college.  \n",
    "But we don't want to share this data with the world, so we're not publishing it.\n",
    "\n",
    "There are similar datasets available on kaggle, so we will use one of them for the demonstration:  \n",
    "[https://www.kaggle.com/datasets/kamyamehra/chat-dataset]()  \n",
    "\n",
    "A row in this raw caht dump generally looks like: \n",
    "\n",
    "`[24/04/24, 7:54:07 PM] ~ Jigyasu: Hello, I am Jigyasu from NIT Agartala`\n",
    "\n",
    "Below are the regexes needed to parse this dump.  \n",
    "Be advised that different versions of whatsapp have slightly different row format. Additionally the datetime format seems to depend on the locale defined in the smartphone of the person who exported it.  \n",
    "This means that you will need to adapt these regexes to your particular dump.\n"
   ]
  },
  {
   "cell_type": "code",
   "execution_count": null,
   "id": "d096b5a0-0e2e-4b90-ba2d-33c760334940",
   "metadata": {},
   "outputs": [],
   "source": [
    "with open(\"_chat.txt\", \"r\", encoding=\"utf-8\") as f:\n",
    "    raw_text = f.read()\n",
    "\n",
    "# ambiguous_chars_pattern = r'[\\u202b\\u202c\\u200f]' #rtl languages\n",
    "bad_space_patt = r'[\\u202f]'\n",
    "bad_empty_patt = r'[\\u202a\\u202b\\u202c\\u200e\\u200f]'\n",
    "\n",
    "\n",
    "date_patt = r'([0-9]{1,2}\\/[0-9]{1,2}\\/[0-9]{2,4})'\n",
    "time_patt = r'([0-9]{1,2}:[0-9]{2}:[0-9]{2}\\s*[AaPp][Mm])'\n",
    "auth_patt = r'(?:~)?\\s*([^:]+)'\n",
    "text_patt = r'(.*)'\n",
    "full_patt = f'^\\[{date_patt},\\s*{time_patt}\\]\\s*{auth_patt}:\\s*{text_patt}$'\n",
    "line_re = re.compile(full_patt)\n",
    "\n",
    "print(full_patt)"
   ]
  },
  {
   "cell_type": "code",
   "execution_count": null,
   "id": "45f7af28-a07c-4408-864c-b9a3c8dddff9",
   "metadata": {},
   "outputs": [],
   "source": [
    "dt_format = \"%d/%m/%y %H:%M:%S %p\"\n",
    "\n",
    "rows = []\n",
    "row = {}\n",
    "\n",
    "for raw_line in raw_text.splitlines():\n",
    "    raw_line = re.sub(bad_space_patt, ' ', raw_line) \n",
    "    raw_line = re.sub(bad_empty_patt, '', raw_line) \n",
    "    m = line_re.match(raw_line)\n",
    "    if m:\n",
    "        rows.append(row)       \n",
    "        \n",
    "        date_str, time_str, author, text = m.groups()\n",
    "        dt = datetime.strptime(f\"{date_str} {time_str}\", dt_format)\n",
    "        row = {\"timestamp\": dt, \"author\": author.strip(), \"text\": text.strip()}\n",
    "        \n",
    "    else:\n",
    "        row[\"text\"] += '\\n' + raw_line\n",
    "print(len(rows))\n",
    "rows[:3]"
   ]
  },
  {
   "cell_type": "code",
   "execution_count": null,
   "id": "ea4780bc-df1b-411f-b6db-6b34c304a082",
   "metadata": {},
   "outputs": [],
   "source": [
    "df = pd.DataFrame(rows[1:]).sort_values(\"timestamp\").reset_index(drop=True)"
   ]
  },
  {
   "cell_type": "code",
   "execution_count": null,
   "id": "b261b3b0-b910-42e8-8a57-b17617a2704a",
   "metadata": {},
   "outputs": [],
   "source": [
    "df[30:].head(30)"
   ]
  },
  {
   "cell_type": "code",
   "execution_count": null,
   "id": "05afe93e-0c0a-4a19-9189-5ae92995bdef",
   "metadata": {},
   "outputs": [],
   "source": [
    "df['date'] = df[\"timestamp\"].dt.date\n",
    "df['time'] = df[\"timestamp\"].dt.time\n",
    "df['daytime'] = df.time.apply(lambda dt : dt.hour*60*60 + dt.minute*60 + dt.second)\n"
   ]
  },
  {
   "cell_type": "code",
   "execution_count": null,
   "id": "85098da9-c254-4c66-b3f6-26026cbceca7",
   "metadata": {},
   "outputs": [],
   "source": [
    "px.histogram(df, x = \"date\", nbins=df.date.nunique())"
   ]
  },
  {
   "cell_type": "markdown",
   "id": "6e03107c-aacd-4c6d-b124-efcec8fe630e",
   "metadata": {},
   "source": [
    "## Detect staff \n",
    "In the original data, we know who the staff are.  \n",
    "\n",
    "For this public data we'll just assume that several most active users are the staff."
   ]
  },
  {
   "cell_type": "code",
   "execution_count": null,
   "id": "6705806a-188e-4baa-aa5a-2b566fccb00a",
   "metadata": {},
   "outputs": [],
   "source": [
    "q = r\"\"\"SELECT author, count(text) as cnt\n",
    "\n",
    "        FROM df\n",
    "        \n",
    "        group by author\n",
    "        order by cnt desc\n",
    "        ;\"\"\" \n",
    "\n",
    "userstats = sqldf(q).df()\n",
    "userstats"
   ]
  },
  {
   "cell_type": "code",
   "execution_count": null,
   "id": "043cccf8-1b17-40d8-9b6f-c9dc2b2b01bb",
   "metadata": {},
   "outputs": [],
   "source": [
    "px.bar(userstats, x = userstats.index, y = \"cnt\", hover_data=[\"author\"])"
   ]
  },
  {
   "cell_type": "code",
   "execution_count": null,
   "id": "31f77a08-6bdd-4874-8376-372c37928cfd",
   "metadata": {},
   "outputs": [],
   "source": [
    "staff_names = set(userstats[:4].author)\n",
    "staff_names"
   ]
  },
  {
   "cell_type": "code",
   "execution_count": null,
   "id": "053f7d45-aab1-42fe-89b9-d6747d4bb438",
   "metadata": {},
   "outputs": [],
   "source": [
    "staff_names = {'Amritaa Sethi Mam Gfg','Aman Sir Gfg Interview', 'Nikhil Sharma', '.', 'Aadil Latif'}\n",
    "\n",
    "df[\"role\"] = df[\"author\"].apply(lambda a: \"staff\" if a in staff_names else \"student\")\n"
   ]
  },
  {
   "cell_type": "code",
   "execution_count": null,
   "id": "fafa2d84-0950-4fcb-8d5f-69fe468d9f6f",
   "metadata": {},
   "outputs": [],
   "source": [
    "df"
   ]
  },
  {
   "cell_type": "markdown",
   "id": "935e615a-d0c6-4b27-b62f-dc94ae38daf2",
   "metadata": {},
   "source": [
    "## Anonymize the data \n",
    "We will replace the actial names with ids "
   ]
  },
  {
   "cell_type": "code",
   "execution_count": null,
   "id": "bc64857c-26df-4f17-a474-012036454090",
   "metadata": {},
   "outputs": [],
   "source": [
    "authUnq = pd.DataFrame(df.author.unique()).reset_index()\n",
    "authUnq.columns = [\"Id\",\"name\"]\n",
    "authUnq.Id = 1000 + authUnq.Id\n",
    "authUnq"
   ]
  },
  {
   "cell_type": "code",
   "execution_count": null,
   "id": "e43e795d-2f79-4baf-855b-837eb7062c78",
   "metadata": {},
   "outputs": [],
   "source": [
    "px.histogram(df, x = 'daytime', color = 'role', nbins=600)"
   ]
  },
  {
   "cell_type": "markdown",
   "id": "9e433021-a8c4-4b76-a0e5-50fda9193db2",
   "metadata": {},
   "source": [
    "## Clean up trash\n",
    "Some messages are just trash. Let's find those that repeat the most."
   ]
  },
  {
   "cell_type": "code",
   "execution_count": null,
   "id": "64e4f48d-ee12-44f6-a31a-0e99855975ed",
   "metadata": {},
   "outputs": [],
   "source": [
    "q = r\"\"\"SELECT text, count(text) as cnt\n",
    "\n",
    "        FROM df\n",
    "        -- where text like '%omitted%'\n",
    "        group by text\n",
    "        order by cnt desc\n",
    "        ;\"\"\" \n",
    "\n",
    "lal = sqldf(q).df()\n",
    "print(lal.shape)\n",
    "lal.head(30)"
   ]
  },
  {
   "cell_type": "markdown",
   "id": "54f12651-1c4d-4b0d-b0e5-5366e902c37c",
   "metadata": {},
   "source": [
    "Not all of these are trash. We will classify them into several groups."
   ]
  },
  {
   "cell_type": "code",
   "execution_count": null,
   "id": "ba58aedb-3a09-4178-9946-38586ec502db",
   "metadata": {},
   "outputs": [],
   "source": [
    "dels = list(lal.loc[[0,1,5,6,7,8,11,13,15]].text)\n",
    "dels"
   ]
  },
  {
   "cell_type": "code",
   "execution_count": null,
   "id": "a0d86c57-7066-41ad-9106-38c9e09f275f",
   "metadata": {},
   "outputs": [],
   "source": [
    "dels += ['Thanks', 'Ty', 'video omitted']\n",
    "\n",
    "urlfile = [\"https://\", \".pdf\", \".docx\", \".png\"]\n",
    "\n",
    "dels_like = ['document omitted','This message was deleted by admin']\n",
    "\n",
    "joined = [\"added ~ \", \"removed ~ \", \"removed +\"]\n",
    "\n",
    "when =  [f\"WHEN text = '{t}' THEN 'deleted'\" for t in dels]\n",
    "when += [f\"WHEN text LIKE '%{t}%' THEN 'deleted'\" for t in dels_like]\n",
    "when += [f\"WHEN text LIKE '%{t}%' THEN 'urlfile'\" for t in urlfile]\n",
    "when += [f\"WHEN text LIKE '%{t}%' THEN 'joined'\" for t in joined]\n",
    "\n",
    "\n",
    "when = \"\\n\\t\".join(when)\n",
    "print(when)"
   ]
  },
  {
   "cell_type": "code",
   "execution_count": null,
   "id": "a9f7a3de-b6b3-481e-9137-358fe4078337",
   "metadata": {},
   "outputs": [],
   "source": [
    "dels"
   ]
  },
  {
   "cell_type": "code",
   "execution_count": null,
   "id": "073473d9-87a6-4888-bcae-b84bbe8fb349",
   "metadata": {},
   "outputs": [],
   "source": [
    "basecols = \", \".join(df.columns)\n",
    "basecols"
   ]
  },
  {
   "cell_type": "code",
   "execution_count": null,
   "id": "d5f99168-2cdb-4637-8fd2-49f7350534f2",
   "metadata": {},
   "outputs": [],
   "source": [
    "q = f\"\"\"SELECT {basecols}, 'user' || cast(au.id as string) as authorAnon,\n",
    "    CASE\n",
    "        {when}\n",
    "        ELSE role\n",
    "    END as class      \n",
    "    \n",
    "    FROM df\n",
    "    JOIN authUnq au on df.author = au.name\n",
    "        \n",
    "        ;\"\"\" \n",
    "print(q)"
   ]
  },
  {
   "cell_type": "code",
   "execution_count": null,
   "id": "8eb44de7-5f24-416f-bb5a-aac5392776c5",
   "metadata": {},
   "outputs": [],
   "source": [
    "df = sqldf(q).df()\n",
    "df"
   ]
  },
  {
   "cell_type": "code",
   "execution_count": null,
   "id": "b12723bc-e409-4c4b-ac9f-013a1542253f",
   "metadata": {},
   "outputs": [],
   "source": [
    "px.histogram(df, x = 'class')"
   ]
  },
  {
   "cell_type": "markdown",
   "id": "cbe20df2-cd61-45c7-b4c6-b7319dc93937",
   "metadata": {},
   "source": [
    "## Visualaization\n",
    "It may be interesting to view the whole data in a temporal perspective, where:\n",
    "- x axis is time\n",
    "- y axis are the individual users\n",
    "- each dot represents a single message\n",
    "- dot color is message's class\n",
    "\n",
    "By using an interactive plotting library such as plotly, we may dive deeper into this ocean of points and perhaps discover some interesting patterns."
   ]
  },
  {
   "cell_type": "code",
   "execution_count": null,
   "id": "a33e3dfd-44b7-462d-bea3-604b95d29fc3",
   "metadata": {},
   "outputs": [],
   "source": [
    "fig = px.scatter(df, x = \"timestamp\", y = \"author\", color = 'class', \n",
    "                 height=800, hover_data=[\"text\"],  )\n",
    "fig.update_traces(marker_size = 3)"
   ]
  },
  {
   "cell_type": "markdown",
   "id": "70cb6d9b-5d14-4d8a-8207-cf40302bf7c6",
   "metadata": {},
   "source": [
    "Another interesting projection is the time vs. time-of-day:\n",
    "\n",
    " * Note: there was some problem with properly presenting time-of-day as HH:MM:SS, so I decided to present it as total seconds since beginning of the day."
   ]
  },
  {
   "cell_type": "code",
   "execution_count": null,
   "id": "064acec3-2520-462b-a049-01f1b01e4729",
   "metadata": {},
   "outputs": [],
   "source": [
    "fig = px.scatter(df, x = \"timestamp\", y = \"daytime\", color = 'class', \n",
    "                 height=600, hover_data=[\"author\",\"text\"]  )\n",
    "\n",
    "fig.update_traces(marker_size = 4)\n",
    "fig.update_layout(yaxis_tickformat='%H:%M:%S')"
   ]
  },
  {
   "cell_type": "markdown",
   "id": "99d28cfe-f6bf-48f9-b02d-2ab9d068f522",
   "metadata": {},
   "source": [
    "If we zoom x axis to a resolution of one day:\n",
    "\n",
    "![](cluster.png)\n",
    "\n",
    "We will notice that the messages are oftern grouped together in separate time spans. We surmize that these are separate threads each discussing an individual topic. We think that this may be used to separate the whole dataset into a series of isolated discussions for use in a RAG."
   ]
  },
  {
   "cell_type": "markdown",
   "id": "e1cbbcce-3f8d-44c0-b5e8-d41d413f253d",
   "metadata": {},
   "source": [
    "## Filtering\n"
   ]
  },
  {
   "cell_type": "code",
   "execution_count": null,
   "id": "18207e5e-12ba-4b2e-b1f9-99f0ba4673c8",
   "metadata": {},
   "outputs": [],
   "source": [
    "q = f\"\"\"SELECT *\n",
    "\n",
    "        FROM df\n",
    "        where class in ('student','staff','urlfile')\n",
    "        ;\"\"\" \n",
    "flt = sqldf(q).df()\n",
    "flt.shape"
   ]
  },
  {
   "cell_type": "code",
   "execution_count": null,
   "id": "0427c575-9f2d-42b3-97e3-4b1316bc6f3e",
   "metadata": {},
   "outputs": [],
   "source": [
    "flt"
   ]
  },
  {
   "cell_type": "code",
   "execution_count": null,
   "id": "ec327eec-4313-4008-8061-e02a5ed71445",
   "metadata": {},
   "outputs": [],
   "source": [
    "fig = px.scatter(flt, x = \"timestamp\", y = \"daytime\", color = 'role', \n",
    "                 height=800, hover_data=[\"author\",\"text\"] )\n",
    "fig.update_traces(marker_size = 3)\n",
    "fig.update_layout(yaxis_tickformat='%H:%M:%S')"
   ]
  },
  {
   "cell_type": "code",
   "execution_count": null,
   "id": "04fd7741-853a-44f1-91c5-a97146f86ad9",
   "metadata": {},
   "outputs": [],
   "source": [
    "df.text.nunique()"
   ]
  },
  {
   "cell_type": "markdown",
   "id": "ec4f7447-b6be-4322-8bd1-18a0c6480fca",
   "metadata": {},
   "source": [
    "For now we will just remove only those messages that are definitely trash.  \n",
    "For the conversations/dialogues separation we'll use simpler approach: just separate them by day. "
   ]
  },
  {
   "cell_type": "code",
   "execution_count": null,
   "id": "042fbaa7-eaff-4bf7-b26f-aac028a352a4",
   "metadata": {},
   "outputs": [],
   "source": [
    "q = f\"\"\"\n",
    "with s1 as \n",
    "(SELECT date, group_concat(time || ' ' || authorAnon || ': ' || text, '<hr>') as html_anon,\n",
    "                group_concat(time || ' ' || author || ': ' || text, '<hr>') as html,\n",
    "group_concat( authorAnon || ': ' || text, '\\n') as txt\n",
    "\n",
    "        FROM flt\n",
    "        GROUP by date\n",
    ")\n",
    "select * \n",
    "\n",
    "from s1\n",
    "order by date\n",
    "        ;\"\"\" \n",
    "\n",
    "dialogues = sqldf(q).df()\n",
    "dialogues.head()"
   ]
  },
  {
   "cell_type": "markdown",
   "id": "550f113e-57d2-4c15-a288-724dc1aae160",
   "metadata": {},
   "source": [
    "## Output"
   ]
  },
  {
   "cell_type": "code",
   "execution_count": null,
   "id": "38c9c270-a84e-4b4c-91a0-5d11f8cf23fb",
   "metadata": {},
   "outputs": [],
   "source": [
    "\n",
    "def save_df_as_pretty_html(df, filename=\"output.html\", index=True):\n",
    "    pd.set_option(\"display.max_colwidth\", None)\n",
    "    # Convert newlines to <br> for HTML\n",
    "    df_html_ready = df.copy()\n",
    "    for col in df_html_ready.columns:\n",
    "        df_html_ready[col] = df_html_ready[col].astype(str).str.replace('\\n', '<br>', regex=False)\n",
    "\n",
    "    # Generate styled HTML\n",
    "    html = df_html_ready.to_html(\n",
    "        escape=False,  # Needed to render <br>\n",
    "        index=index,\n",
    "        border=0,\n",
    "        classes=\"styled-table\"\n",
    "    )\n",
    "\n",
    "    # Add CSS styling\n",
    "    style = \"\"\"\n",
    "    <style>\n",
    "    .styled-table {\n",
    "        border-collapse: collapse;\n",
    "        margin: 25px 0;\n",
    "        font-size: 16px;\n",
    "        font-family: Arial, sans-serif;\n",
    "        width: 100%;\n",
    "        table-layout: auto; /* ✅ Let browser fit naturally */\n",
    "    }\n",
    "    .styled-table th, .styled-table td {\n",
    "        border: 1px solid #dddddd;\n",
    "        padding: 10px;\n",
    "        vertical-align: top;\n",
    "        text-align: left;\n",
    "        overflow-wrap: break-word; /* ✅ Break inside words */\n",
    "        white-space: pre-wrap; /* ✅ Honor \\\\n linebreaks */\n",
    "    }\n",
    "    .styled-table td {\n",
    "        max-width: 600px; /* ✅ Avoid huge dream fields expanding table */\n",
    "    }\n",
    "    .styled-table th {\n",
    "        background-color: #f2f2f2;\n",
    "    }\n",
    "    </style>\n",
    "    \"\"\"\n",
    "\n",
    "    # Write full HTML document\n",
    "    with open(filename, \"w\", encoding=\"utf-8\") as f:\n",
    "        f.write(f\"<!DOCTYPE html><html><head>{style}</head><body>{html}</body></html>\")\n",
    "\n",
    "    print(f\"✅ HTML table saved to: {filename}\")\n"
   ]
  },
  {
   "cell_type": "markdown",
   "id": "1ac1b8dd-6d04-4bf9-b621-edf81e8924e4",
   "metadata": {},
   "source": [
    "And save it in 2 formats: \n",
    "- html for convenient viewing\n",
    "- json for exporting to RAG"
   ]
  },
  {
   "cell_type": "code",
   "execution_count": null,
   "id": "d472f80a-3803-4ffb-ade1-e69eacc4d1b1",
   "metadata": {},
   "outputs": [],
   "source": [
    "save_df_as_pretty_html(dialogues[['date','html']], 'dialogues.html')"
   ]
  },
  {
   "cell_type": "code",
   "execution_count": null,
   "id": "2216434d-96de-4711-85e4-a8b25d08878d",
   "metadata": {},
   "outputs": [],
   "source": [
    "dialogues['txt'].to_json('dialogues.json', force_ascii=False, indent=2, orient='records')"
   ]
  },
  {
   "cell_type": "markdown",
   "id": "a6da4440-17c5-4375-9268-ff97a2c45a00",
   "metadata": {},
   "source": [
    "That's all for now"
   ]
  }
 ],
 "metadata": {
  "kernelspec": {
   "display_name": "AfekaBot",
   "language": "python",
   "name": "afekabot"
  },
  "language_info": {
   "codemirror_mode": {
    "name": "ipython",
    "version": 3
   },
   "file_extension": ".py",
   "mimetype": "text/x-python",
   "name": "python",
   "nbconvert_exporter": "python",
   "pygments_lexer": "ipython3",
   "version": "3.11.9"
  }
 },
 "nbformat": 4,
 "nbformat_minor": 5
}
